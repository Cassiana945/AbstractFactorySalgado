{
  "nbformat": 4,
  "nbformat_minor": 0,
  "metadata": {
    "colab": {
      "provenance": [],
      "authorship_tag": "ABX9TyOFcJagjPGy8Yowe460bHYH",
      "include_colab_link": true
    },
    "kernelspec": {
      "name": "python3",
      "display_name": "Python 3"
    },
    "language_info": {
      "name": "python"
    }
  },
  "cells": [
    {
      "cell_type": "markdown",
      "metadata": {
        "id": "view-in-github",
        "colab_type": "text"
      },
      "source": [
        "<a href=\"https://colab.research.google.com/github/Cassiana945/AbstractFactorySalgado/blob/main/Classificador_kNN_.ipynb\" target=\"_parent\"><img src=\"https://colab.research.google.com/assets/colab-badge.svg\" alt=\"Open In Colab\"/></a>"
      ]
    },
    {
      "cell_type": "code",
      "execution_count": 1,
      "metadata": {
        "colab": {
          "base_uri": "https://localhost:8080/"
        },
        "id": "xcrLQ_JdeuK1",
        "outputId": "1aeee633-de6c-4b49-b9dc-006f5eaec495"
      },
      "outputs": [
        {
          "output_type": "stream",
          "name": "stdout",
          "text": [
            "Acurácia do modelo kNN (k=9): 0.96\n"
          ]
        }
      ],
      "source": [
        "# --- Atividade: Classificação com kNN no dataset Iris ---\n",
        "\n",
        "\n",
        "from sklearn.datasets import load_iris\n",
        "from sklearn.model_selection import train_test_split\n",
        "from sklearn.neighbors import KNeighborsClassifier\n",
        "from sklearn.metrics import accuracy_score\n",
        "\n",
        "iris = load_iris()\n",
        "X = iris.data\n",
        "y = iris.target\n",
        "\n",
        "X_train, X_test, y_train, y_test = train_test_split(\n",
        "    X, y, test_size=0.3, random_state=42, stratify=y\n",
        ")\n",
        "\n",
        "knn = KNeighborsClassifier(n_neighbors=9)\n",
        "knn.fit(X_train, y_train)\n",
        "y_pred = knn.predict(X_test)\n",
        "\n",
        "\n",
        "acc = accuracy_score(y_test, y_pred)\n",
        "print(f\"Acurácia do modelo kNN (k=9): {acc:.2f}\")\n"
      ]
    },
    {
      "cell_type": "markdown",
      "source": [
        "O modelo kNN com k=9 normalmente apresenta acurácia acima de 0.9 (90%) no dataset Iris.\n",
        "Isso significa que o classificador conseguiu identificar corretamente a maioria das flores de teste.\n",
        "O desempenho é alto porque o dataset Iris é bem equilibrado e relativamente simples, o que facilita para o kNN separar as classes de flores."
      ],
      "metadata": {
        "id": "Pt__E1lce0xi"
      }
    }
  ]
}